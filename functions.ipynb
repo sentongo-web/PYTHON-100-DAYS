{
 "cells": [
  {
   "cell_type": "markdown",
   "metadata": {},
   "source": [
    "SIMPLE FUNCTIONS"
   ]
  },
  {
   "cell_type": "code",
   "execution_count": 1,
   "metadata": {},
   "outputs": [
    {
     "name": "stdout",
     "output_type": "stream",
     "text": [
      "17\n"
     ]
    }
   ],
   "source": [
    "num_char = len(\"Welcome to Python\")\n",
    "print(num_char)"
   ]
  },
  {
   "cell_type": "code",
   "execution_count": 3,
   "metadata": {},
   "outputs": [
    {
     "name": "stdout",
     "output_type": "stream",
     "text": [
      "Hello\n",
      "welcome\n",
      "feel at home\n"
     ]
    }
   ],
   "source": [
    "def my_function():\n",
    "    print (\"Hello\")\n",
    "    print (\"welcome\")\n",
    "    print (\"feel at home\")\n",
    "my_function()"
   ]
  },
  {
   "cell_type": "markdown",
   "metadata": {},
   "source": [
    "SIMPLE GREET FUNCTION"
   ]
  },
  {
   "cell_type": "code",
   "execution_count": null,
   "metadata": {},
   "outputs": [],
   "source": [
    "#Simple Function\n",
    "def greet():\n",
    "  print(\"Hello Angela\")\n",
    "  print(\"How do you do Jack Bauer?\")\n",
    "  print(\"Isn't the weather nice today?\")\n",
    "greet()\n",
    "\n",
    "#Function that allows for input\n",
    "#'name' is the parameter.\n",
    "#'Jack Bauer' is the argument.\n",
    "def greet_with_name(name):\n",
    "  print(f\"Hello {name}\")\n",
    "  print(f\"How do you do {name}?\")\n",
    "greet_with_name(\"Jack Bauer\")\n",
    "\n",
    "#Functions with more than 1 input\n",
    "def greet_with(name, location):\n",
    "  print(f\"Hello {name}\")\n",
    "  print(f\"What is it like in {location}?\")\n",
    "\n",
    "#Calling greet_with() with Positional Arguments\n",
    "greet_with(\"Jack Bauer\", \"Nowhere\")\n",
    "#vs.\n",
    "greet_with(\"Nowhere\", \"Jack Bauer\")\n",
    "\n",
    "\n",
    "#Calling greet_with() with Keyword Arguments\n",
    "greet_with(location=\"London\", name=\"Angela\")"
   ]
  }
 ],
 "metadata": {
  "kernelspec": {
   "display_name": "Python 3",
   "language": "python",
   "name": "python3"
  },
  "language_info": {
   "codemirror_mode": {
    "name": "ipython",
    "version": 3
   },
   "file_extension": ".py",
   "mimetype": "text/x-python",
   "name": "python",
   "nbconvert_exporter": "python",
   "pygments_lexer": "ipython3",
   "version": "3.11.10"
  }
 },
 "nbformat": 4,
 "nbformat_minor": 2
}
