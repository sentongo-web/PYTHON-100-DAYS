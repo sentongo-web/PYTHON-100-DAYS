{
  "nbformat": 4,
  "nbformat_minor": 0,
  "metadata": {
    "colab": {
      "provenance": [],
      "authorship_tag": "ABX9TyPbmJKs+vAhZJcPcrVKbNL+",
      "include_colab_link": true
    },
    "kernelspec": {
      "name": "python3",
      "display_name": "Python 3"
    },
    "language_info": {
      "name": "python"
    }
  },
  "cells": [
    {
      "cell_type": "markdown",
      "metadata": {
        "id": "view-in-github",
        "colab_type": "text"
      },
      "source": [
        "<a href=\"https://colab.research.google.com/github/sentongo-web/PYTHON-100-DAYS/blob/main/refresher.ipynb\" target=\"_parent\"><img src=\"https://colab.research.google.com/assets/colab-badge.svg\" alt=\"Open In Colab\"/></a>"
      ]
    },
    {
      "cell_type": "code",
      "execution_count": 5,
      "metadata": {
        "colab": {
          "base_uri": "https://localhost:8080/"
        },
        "id": "IWoBxT_1GqAR",
        "outputId": "081ef80d-1d39-4a24-f8ec-27d43e753a0f"
      },
      "outputs": [
        {
          "output_type": "stream",
          "name": "stdout",
          "text": [
            "greens\n",
            "vertonium\n",
            "segundero\n",
            "trigonomero\n"
          ]
        }
      ],
      "source": [
        "vegetables = [\"greens\", \"vertonium\", \"segundero\",\"trigonomero\"]\n",
        "for vegetable in vegetables:\n",
        "  print (vegetable)"
      ]
    },
    {
      "cell_type": "code",
      "source": [
        "student_scores = [23,45,78,90,67,90,100]\n",
        "total_exam_scores = sum(student_scores)\n",
        "sum = 0\n",
        "for score in student_scores:\n",
        "  sum += score\n",
        "print (sum)"
      ],
      "metadata": {
        "colab": {
          "base_uri": "https://localhost:8080/"
        },
        "id": "VW8kxVK7IA8H",
        "outputId": "db111511-3ac0-458a-eee5-c9c60826bebe"
      },
      "execution_count": 7,
      "outputs": [
        {
          "output_type": "stream",
          "name": "stdout",
          "text": [
            "493\n"
          ]
        }
      ]
    },
    {
      "cell_type": "code",
      "source": [
        "student_scores = [23,45,78,90,67,90,100]\n",
        "max_score = 0\n",
        "for score in  student_scores:\n",
        "  if score > max_score:\n",
        "    max_score = score\n",
        "print (max_score)"
      ],
      "metadata": {
        "colab": {
          "base_uri": "https://localhost:8080/"
        },
        "id": "8UCKMZ3TKvpn",
        "outputId": "57d43cb9-26d4-4849-80ea-9e41584093e6"
      },
      "execution_count": 8,
      "outputs": [
        {
          "output_type": "stream",
          "name": "stdout",
          "text": [
            "100\n"
          ]
        }
      ]
    }
  ]
}