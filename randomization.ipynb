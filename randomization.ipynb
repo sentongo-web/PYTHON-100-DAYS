{
 "cells": [
  {
   "cell_type": "markdown",
   "metadata": {},
   "source": [
    "RANDOMIZATION: ROCK SCISORS AND PAPER GAME"
   ]
  },
  {
   "cell_type": "markdown",
   "metadata": {},
   "source": [
    "random integers from 1 - 100"
   ]
  },
  {
   "cell_type": "code",
   "execution_count": 3,
   "metadata": {},
   "outputs": [
    {
     "name": "stdout",
     "output_type": "stream",
     "text": [
      "91\n"
     ]
    }
   ],
   "source": [
    "import random\n",
    "random_integer = random.randint(1, 100)\n",
    "print (random_integer)"
   ]
  },
  {
   "cell_type": "markdown",
   "metadata": {},
   "source": [
    "random floats from 0 - 1"
   ]
  },
  {
   "cell_type": "code",
   "execution_count": 5,
   "metadata": {},
   "outputs": [
    {
     "name": "stdout",
     "output_type": "stream",
     "text": [
      "0.5481817763068333\n"
     ]
    }
   ],
   "source": [
    "random_number = random.random()\n",
    "print (random_number)"
   ]
  },
  {
   "cell_type": "markdown",
   "metadata": {},
   "source": [
    "Random coin toss"
   ]
  },
  {
   "cell_type": "code",
   "execution_count": 9,
   "metadata": {},
   "outputs": [
    {
     "name": "stdout",
     "output_type": "stream",
     "text": [
      "Heads\n"
     ]
    }
   ],
   "source": [
    "random_coin_toss= random.randint(1,2)\n",
    "if random_coin_toss == 1:\n",
    " print(\"Heads\")\n",
    "else:\n",
    " print(\"Tails\")"
   ]
  },
  {
   "cell_type": "markdown",
   "metadata": {},
   "source": [
    "LISTS"
   ]
  },
  {
   "cell_type": "code",
   "execution_count": 10,
   "metadata": {},
   "outputs": [
    {
     "name": "stdout",
     "output_type": "stream",
     "text": [
      "apple\n"
     ]
    }
   ],
   "source": [
    "fruits = [\"apple\", \"banana\", \"cherry\", \"durian\"]\n",
    "print (fruits[0])"
   ]
  },
  {
   "cell_type": "code",
   "execution_count": 11,
   "metadata": {},
   "outputs": [
    {
     "name": "stdout",
     "output_type": "stream",
     "text": [
      "['apple', 'banana', 'cherry', 'durian', 'elderberry']\n"
     ]
    }
   ],
   "source": [
    "fruits.append(\"elderberry\")\n",
    "print (fruits)"
   ]
  },
  {
   "cell_type": "code",
   "execution_count": 12,
   "metadata": {},
   "outputs": [
    {
     "name": "stdout",
     "output_type": "stream",
     "text": [
      "['apple', 'banana', 'cherry', 'durian', 'elderberry', 'matooke', 'passion fruit']\n"
     ]
    }
   ],
   "source": [
    "fruits.extend([\"matooke\", \"passion fruit\"])\n",
    "print (fruits)"
   ]
  },
  {
   "cell_type": "code",
   "execution_count": 15,
   "metadata": {},
   "outputs": [
    {
     "data": {
      "text/plain": [
       "'Charlie'"
      ]
     },
     "execution_count": 15,
     "metadata": {},
     "output_type": "execute_result"
    }
   ],
   "source": [
    "friends = [\"Alice\", \"Bob\", \"Charlie\", \"David\"]\n",
    "random.choice(friends)"
   ]
  },
  {
   "cell_type": "code",
   "execution_count": 16,
   "metadata": {},
   "outputs": [
    {
     "name": "stdout",
     "output_type": "stream",
     "text": [
      "Kale\n"
     ]
    }
   ],
   "source": [
    "fruits = [\"Strawberries\", \"Nectarines\", \"Apples\", \"Grapes\", \"Peaches\", \"Cherries\", \"Pears\"]\n",
    "vegetables = [\"Spinach\", \"Kale\", \"Tomatoes\", \"Celery\", \"Potatoes\"]\n",
    " \n",
    "dirty_dozen = [fruits, vegetables]\n",
    " \n",
    "print(dirty_dozen[1][1])"
   ]
  },
  {
   "cell_type": "markdown",
   "metadata": {},
   "source": [
    "ROCK PAPER SCISSORS GAME"
   ]
  },
  {
   "cell_type": "code",
   "execution_count": null,
   "metadata": {},
   "outputs": [
    {
     "name": "stdout",
     "output_type": "stream",
     "text": [
      "computer chose 2\n",
      "you typed an invalid number\n"
     ]
    }
   ],
   "source": [
    "import random\n",
    "user_choice = input(\"what do you want to choose:? Type 0 for Rock, 1 for Paper or 2 for Scissors.\\n\")\n",
    "\n",
    "computer_choice = random.randint(0, 2)\n",
    "print (f\"computer chose {computer_choice}\")\n",
    "\n",
    "if user_choice == \"0\" and computer_choice == 2:\n",
    "    print(\"You win\")\n",
    "elif computer_choice == user_choice:\n",
    "    print(\"It's a draw\")\n",
    "elif user_choice > computer_choice:\n",
    "    print(\"You win\")\n",
    "elif computer_choice == 0 and user_choice == \"2\":\n",
    "    print(\"You lose\")\n",
    "else:\n",
    "    print(\"you typed an invalid number\")"
   ]
  }
 ],
 "metadata": {
  "kernelspec": {
   "display_name": "Python 3",
   "language": "python",
   "name": "python3"
  },
  "language_info": {
   "codemirror_mode": {
    "name": "ipython",
    "version": 3
   },
   "file_extension": ".py",
   "mimetype": "text/x-python",
   "name": "python",
   "nbconvert_exporter": "python",
   "pygments_lexer": "ipython3",
   "version": "3.11.10"
  }
 },
 "nbformat": 4,
 "nbformat_minor": 2
}
