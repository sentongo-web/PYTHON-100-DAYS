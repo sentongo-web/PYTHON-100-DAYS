{
 "cells": [
  {
   "cell_type": "code",
   "execution_count": 1,
   "id": "0d79c407",
   "metadata": {},
   "outputs": [
    {
     "name": "stdout",
     "output_type": "stream",
     "text": [
      "Hello, World!\n"
     ]
    }
   ],
   "source": [
    "print (\"Hello, World!\")"
   ]
  },
  {
   "cell_type": "code",
   "execution_count": 2,
   "id": "f67d781c",
   "metadata": {},
   "outputs": [
    {
     "name": "stdout",
     "output_type": "stream",
     "text": [
      "Hello Paul\n"
     ]
    }
   ],
   "source": [
    "print (\"Hello\" + \" \" + \"Paul\")"
   ]
  },
  {
   "cell_type": "code",
   "execution_count": 3,
   "id": "66135593",
   "metadata": {},
   "outputs": [
    {
     "name": "stdout",
     "output_type": "stream",
     "text": [
      "Hello Henry\n"
     ]
    }
   ],
   "source": [
    "\n",
    "print(\"Hello \" + input (\"What is your name? \"))"
   ]
  },
  {
   "cell_type": "code",
   "execution_count": 4,
   "id": "5482fb26",
   "metadata": {},
   "outputs": [
    {
     "name": "stdout",
     "output_type": "stream",
     "text": [
      "Hello Henry\n"
     ]
    }
   ],
   "source": [
    "print(\"Hello \" + input(\"How are you doing?\" + \"!\" + \"I hope you are doing well!\"))"
   ]
  },
  {
   "cell_type": "code",
   "execution_count": null,
   "id": "2a7cb4ad",
   "metadata": {},
   "outputs": [],
   "source": []
  }
 ],
 "metadata": {
  "kernelspec": {
   "display_name": "Python 3",
   "language": "python",
   "name": "python3"
  },
  "language_info": {
   "codemirror_mode": {
    "name": "ipython",
    "version": 3
   },
   "file_extension": ".py",
   "mimetype": "text/x-python",
   "name": "python",
   "nbconvert_exporter": "python",
   "pygments_lexer": "ipython3",
   "version": "3.11.9"
  }
 },
 "nbformat": 4,
 "nbformat_minor": 5
}
