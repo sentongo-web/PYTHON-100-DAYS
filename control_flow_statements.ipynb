{
 "cells": [
  {
   "cell_type": "markdown",
   "metadata": {},
   "source": [
    "control flow statements: The rollercoaster app"
   ]
  },
  {
   "cell_type": "code",
   "execution_count": 1,
   "metadata": {},
   "outputs": [
    {
     "name": "stdout",
     "output_type": "stream",
     "text": [
      "Welcome to the rollercoaster\n",
      "Sorry, you have to grow taller before you can ride\n"
     ]
    }
   ],
   "source": [
    "print (\"Welcome to the rollercoaster\")\n",
    "height = int(input(\"What is your height in centimeters?\"))\n",
    "if height> 120:\n",
    "    print(\"you can join and ride the rollercoaster\")\n",
    "else:\n",
    "    print(\"Sorry, you have to grow taller before you can ride\")"
   ]
  },
  {
   "cell_type": "markdown",
   "metadata": {},
   "source": [
    "modulo"
   ]
  },
  {
   "cell_type": "code",
   "execution_count": 3,
   "metadata": {},
   "outputs": [
    {
     "name": "stdout",
     "output_type": "stream",
     "text": [
      "The number checker app:\n",
      "The number is odd\n"
     ]
    }
   ],
   "source": [
    "print (\"The number checker app:\")\n",
    "number_to_check = int(input(\"Enter the numner to check some properties:\"))\n",
    "if number_to_check % 2 == 0:\n",
    "    print (\"The number is even\")\n",
    "else:\n",
    "    print (\"The number is odd\")"
   ]
  },
  {
   "cell_type": "markdown",
   "metadata": {},
   "source": [
    "Nested IF STATEMENTS"
   ]
  },
  {
   "cell_type": "code",
   "execution_count": 5,
   "metadata": {},
   "outputs": [
    {
     "name": "stdout",
     "output_type": "stream",
     "text": [
      "welcome to the rollercoaster\n",
      "You can ride the rollercoaster\n",
      "please you have to pay $7\n"
     ]
    }
   ],
   "source": [
    "print (\"welcome to the rollercoaster\")\n",
    "height = int(input(\"What is your height in CM?\"))\n",
    "if height >=120:\n",
    "    print(\"You can ride the rollercoaster\")\n",
    "    age = int(input(\"What is your age?\"))\n",
    "    if age < 12:\n",
    "        print(\"Please pay $5\")\n",
    "    elif age <=18:\n",
    "        print(\"please you have to pay $7\")\n",
    "    elif age >=45 and age <=55:\n",
    "        print(\"Everything is going to be ok. Have a free ride\")\n",
    "else:\n",
    "    print(\"Sorry, you have to grow taller before you can ride\")\n",
    "        "
   ]
  }
 ],
 "metadata": {
  "kernelspec": {
   "display_name": "Python 3",
   "language": "python",
   "name": "python3"
  },
  "language_info": {
   "codemirror_mode": {
    "name": "ipython",
    "version": 3
   },
   "file_extension": ".py",
   "mimetype": "text/x-python",
   "name": "python",
   "nbconvert_exporter": "python",
   "pygments_lexer": "ipython3",
   "version": "3.11.10"
  }
 },
 "nbformat": 4,
 "nbformat_minor": 2
}
