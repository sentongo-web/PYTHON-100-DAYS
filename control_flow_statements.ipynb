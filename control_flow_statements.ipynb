{
 "cells": [
  {
   "cell_type": "markdown",
   "metadata": {},
   "source": [
    "control flow statements: The rollercoaster app"
   ]
  },
  {
   "cell_type": "code",
   "execution_count": 1,
   "metadata": {},
   "outputs": [
    {
     "name": "stdout",
     "output_type": "stream",
     "text": [
      "Welcome to the rollercoaster\n",
      "Sorry, you have to grow taller before you can ride\n"
     ]
    }
   ],
   "source": [
    "print (\"Welcome to the rollercoaster\")\n",
    "height = int(input(\"What is your height in centimeters?\"))\n",
    "if height> 120:\n",
    "    print(\"you can join and ride the rollercoaster\")\n",
    "else:\n",
    "    print(\"Sorry, you have to grow taller before you can ride\")"
   ]
  },
  {
   "cell_type": "markdown",
   "metadata": {},
   "source": [
    "modulo"
   ]
  },
  {
   "cell_type": "code",
   "execution_count": 3,
   "metadata": {},
   "outputs": [
    {
     "name": "stdout",
     "output_type": "stream",
     "text": [
      "The number checker app:\n",
      "The number is odd\n"
     ]
    }
   ],
   "source": [
    "print (\"The number checker app:\")\n",
    "number_to_check = int(input(\"Enter the numner to check some properties:\"))\n",
    "if number_to_check % 2 == 0:\n",
    "    print (\"The number is even\")\n",
    "else:\n",
    "    print (\"The number is odd\")"
   ]
  },
  {
   "cell_type": "markdown",
   "metadata": {},
   "source": [
    "Nested IF STATEMENTS"
   ]
  },
  {
   "cell_type": "code",
   "execution_count": 5,
   "metadata": {},
   "outputs": [
    {
     "name": "stdout",
     "output_type": "stream",
     "text": [
      "welcome to the rollercoaster\n",
      "You can ride the rollercoaster\n",
      "please you have to pay $7\n"
     ]
    }
   ],
   "source": [
    "print (\"welcome to the rollercoaster\")\n",
    "height = int(input(\"What is your height in CM?\"))\n",
    "if height >=120:\n",
    "    print(\"You can ride the rollercoaster\")\n",
    "    age = int(input(\"What is your age?\"))\n",
    "    if age < 12:\n",
    "        print(\"Please pay $5\")\n",
    "    elif age <=18:\n",
    "        print(\"please you have to pay $7\")\n",
    "    elif age >=45 and age <=55:\n",
    "        print(\"Everything is going to be ok. Have a free ride\")\n",
    "else:\n",
    "    print(\"Sorry, you have to grow taller before you can ride\")\n",
    "        "
   ]
  },
  {
   "cell_type": "markdown",
   "metadata": {},
   "source": [
    "Python Pizza deliveries project"
   ]
  },
  {
   "cell_type": "code",
   "execution_count": 6,
   "metadata": {},
   "outputs": [
    {
     "name": "stdout",
     "output_type": "stream",
     "text": [
      "Welcome to the pyhton pizza deliveries\n",
      "Your final bill is: $15\n"
     ]
    }
   ],
   "source": [
    "print (\"Welcome to the pyhton pizza deliveries\")\n",
    "size = input(\"What size pizza do you want? S, M, L\")\n",
    "add_pepperoni = input(\"Do you want pepperoni? Y or N\")\n",
    "extra_cheese = input(\"Do you want extra cheese? Y or N\")\n",
    "bill = 0\n",
    "if size == \"S\":\n",
    "    bill += 15\n",
    "    if add_pepperoni == \"Y\":\n",
    "        bill += 2\n",
    "elif size == \"M\":\n",
    "    bill += 20\n",
    "    if add_pepperoni == \"Y\":\n",
    "        bill += 3\n",
    "elif size == \"L\":\n",
    "    bill += 25\n",
    "    if add_pepperoni == \"Y\":\n",
    "        bill += 3\n",
    "if extra_cheese == \"Y\":\n",
    "    bill += 1\n",
    "print(f\"Your final bill is: ${bill}\")"
   ]
  },
  {
   "cell_type": "markdown",
   "metadata": {},
   "source": [
    "LOGICAL OPERATORS"
   ]
  },
  {
   "cell_type": "code",
   "execution_count": 1,
   "metadata": {},
   "outputs": [
    {
     "data": {
      "text/plain": [
       "False"
      ]
     },
     "execution_count": 1,
     "metadata": {},
     "output_type": "execute_result"
    }
   ],
   "source": [
    "a = 10\n",
    "a > 15"
   ]
  },
  {
   "cell_type": "code",
   "execution_count": 2,
   "metadata": {},
   "outputs": [
    {
     "data": {
      "text/plain": [
       "True"
      ]
     },
     "execution_count": 2,
     "metadata": {},
     "output_type": "execute_result"
    }
   ],
   "source": [
    "a < 15 and a > 5\n"
   ]
  },
  {
   "cell_type": "code",
   "execution_count": 3,
   "metadata": {},
   "outputs": [
    {
     "data": {
      "text/plain": [
       "True"
      ]
     },
     "execution_count": 3,
     "metadata": {},
     "output_type": "execute_result"
    }
   ],
   "source": [
    "False or True or False"
   ]
  },
  {
   "cell_type": "code",
   "execution_count": 4,
   "metadata": {},
   "outputs": [
    {
     "name": "stdout",
     "output_type": "stream",
     "text": [
      "B\n"
     ]
    }
   ],
   "source": [
    "a = 5\n",
    "b = 7\n",
    " \n",
    "if a >= b and a != b:\n",
    "    print(\"A\")\n",
    "elif not a >= b and a != b:\n",
    "    print(\"B\")\n",
    "else:\n",
    "    print(\"C\")"
   ]
  },
  {
   "cell_type": "markdown",
   "metadata": {},
   "source": [
    "TREASURE ISLAND PROJECT"
   ]
  },
  {
   "cell_type": "code",
   "execution_count": 5,
   "metadata": {},
   "outputs": [
    {
     "name": "stdout",
     "output_type": "stream",
     "text": [
      "Welcome to the treasure island game\n",
      "Your mission is to find the treasure\n",
      "You got attacked by an angry trout. Game over\n"
     ]
    }
   ],
   "source": [
    "print (\"Welcome to the treasure island game\")\n",
    "print (\"Your mission is to find the treasure\")\n",
    "choice1 = input(\"You're at a crossroad. Where do you want to go? Type 'left' or 'right'\").lower()\n",
    "if choice1 == \"left\":\n",
    "    choice2 = input(\"You've come to a lake. There is an island in the middle of the lake. Type 'wait' to wait for a boat. Type 'swim' to swim across\").lower()\n",
    "    if choice2 == \"wait\":\n",
    "        choice3 = input(\"You arrive at the island unharmed. There is a house with 3 doors. One red, one yellow and one blue. Which color do you choose?\").lower()\n",
    "        if choice3 == \"red\":\n",
    "            print(\"It's a room full of fire. Game over\")\n",
    "        elif choice3 == \"yellow\":\n",
    "            print(\"You found the treasure! You win!\")\n",
    "        elif choice3 == \"blue\":\n",
    "            print(\"You enter a room of beasts. Game over\")\n",
    "        else:\n",
    "            print(\"You chose a door that doesn't exist. Game over\")\n",
    "    else:\n",
    "        print(\"You got attacked by an angry trout. Game over\")"
   ]
  },
  {
   "cell_type": "markdown",
   "metadata": {},
   "source": [
    "ROLLER COASTER COMPLETED"
   ]
  },
  {
   "cell_type": "code",
   "execution_count": null,
   "metadata": {},
   "outputs": [
    {
     "name": "stdout",
     "output_type": "stream",
     "text": [
      "WELCOME TO THE ROLLERCOASTER GAME\n"
     ]
    }
   ],
   "source": [
    "print(\"WELCOME TO THE ROLLERCOASTER GAME\")\n",
    "height = int(input(\"What is your height in CM? \"))\n",
    "bill = 0\n",
    "\n",
    "if height > 120:\n",
    "    print(\"You can ride the rollercoaster!\")\n",
    "    age = int(input(\"How old are you? \"))\n",
    "    \n",
    "    if age <= 12:\n",
    "        bill = 5\n",
    "        print(\"Infants tickets are $5 only.\")\n",
    "    elif age <= 18:\n",
    "        bill = 7\n",
    "        print(\"Youth tickets are $7 only.\")\n",
    "    else:\n",
    "        bill = 12\n",
    "        print(\"Adult tickets are $12.\")\n",
    "    \n",
    "    wants_photo = input(\"Do you want to take a photo? Enter 'y' for YES and 'n' for NO: \")\n",
    "    if wants_photo.lower() == 'y':\n",
    "        bill += 3\n",
    "        print(\"An additional $3 has been added for the photo.\")\n",
    "    \n",
    "    print(f\"Your final bill is ${bill}.\")\n",
    "else:\n",
    "    print(\"Sorry, you will have to grow taller to ride the rollercoaster.\")\n"
   ]
  }
 ],
 "metadata": {
  "kernelspec": {
   "display_name": "Python 3",
   "language": "python",
   "name": "python3"
  },
  "language_info": {
   "codemirror_mode": {
    "name": "ipython",
    "version": 3
   },
   "file_extension": ".py",
   "mimetype": "text/x-python",
   "name": "python",
   "nbconvert_exporter": "python",
   "pygments_lexer": "ipython3",
   "version": "3.11.10"
  }
 },
 "nbformat": 4,
 "nbformat_minor": 2
}
