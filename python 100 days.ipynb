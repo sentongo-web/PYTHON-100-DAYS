{
 "cells": [
  {
   "cell_type": "markdown",
   "id": "2bd25c9d-78f2-48a7-9d4a-3f48571fa809",
   "metadata": {},
   "source": [
    "## Day one: Learn to print to the console"
   ]
  },
  {
   "cell_type": "code",
   "execution_count": 1,
   "id": "8c62073f-ba49-419a-b3af-89e1de7e8a5d",
   "metadata": {},
   "outputs": [
    {
     "name": "stdout",
     "output_type": "stream",
     "text": [
      "Hello welcome to the python programming lessons\n"
     ]
    }
   ],
   "source": [
    "print (\"Hello welcome to the python programming lessons\")"
   ]
  },
  {
   "cell_type": "code",
   "execution_count": 2,
   "id": "6c7b8f64-4301-480f-9eef-bd10ab9f5862",
   "metadata": {},
   "outputs": [
    {
     "name": "stdout",
     "output_type": "stream",
     "text": [
      "Hello, thanks for coming\n",
      "we are all here to work with you\n",
      "please feel free to consult on anything\n"
     ]
    }
   ],
   "source": [
    "print (\"Hello, thanks for coming\")\n",
    "print (\"we are all here to work with you\")\n",
    "print (\"please feel free to consult on anything\")"
   ]
  },
  {
   "cell_type": "markdown",
   "id": "c0301dc8-d62c-4d72-8139-a1ce8e69d294",
   "metadata": {},
   "source": [
    "## String manipulation"
   ]
  },
  {
   "cell_type": "markdown",
   "id": "51bd39f8-b020-4e76-97f0-76a32eb762e4",
   "metadata": {},
   "source": [
    "concatenate strings: "
   ]
  },
  {
   "cell_type": "code",
   "execution_count": 3,
   "id": "646e0e89-ad16-4e27-998b-28cd05a781b4",
   "metadata": {},
   "outputs": [
    {
     "name": "stdout",
     "output_type": "stream",
     "text": [
      "HelloAngela\n"
     ]
    }
   ],
   "source": [
    "print (\"Hello\" + \"Angela\")"
   ]
  },
  {
   "cell_type": "code",
   "execution_count": 4,
   "id": "6230e598-63f1-4e9a-95c4-75c303beadc2",
   "metadata": {},
   "outputs": [
    {
     "name": "stdout",
     "output_type": "stream",
     "text": [
      "Hello Angela\n"
     ]
    }
   ],
   "source": [
    "print (\"Hello \" \"Angela\")"
   ]
  },
  {
   "cell_type": "code",
   "execution_count": 5,
   "id": "b6da8628-f923-4a19-bf48-a45c72d528cf",
   "metadata": {},
   "outputs": [
    {
     "name": "stdout",
     "output_type": "stream",
     "text": [
      "Hello Angela\n"
     ]
    }
   ],
   "source": [
    "print (\"Hello\" \" \" \"Angela\")"
   ]
  },
  {
   "cell_type": "markdown",
   "id": "383e9b13-9820-4826-aaec-08438625885d",
   "metadata": {},
   "source": [
    "## Requiring to input some information"
   ]
  },
  {
   "cell_type": "markdown",
   "id": "d35283ca-4fc8-4288-9f3d-80ff8d572ce1",
   "metadata": {},
   "source": [
    "Input function"
   ]
  },
  {
   "cell_type": "code",
   "execution_count": 7,
   "id": "ff8f8c3e-7f40-46d1-a418-679e506f7024",
   "metadata": {},
   "outputs": [
    {
     "name": "stdin",
     "output_type": "stream",
     "text": [
      "What is your name? sentongo\n"
     ]
    },
    {
     "data": {
      "text/plain": [
       "'sentongo'"
      ]
     },
     "execution_count": 7,
     "metadata": {},
     "output_type": "execute_result"
    }
   ],
   "source": [
    "input (\"What is your name?\")"
   ]
  },
  {
   "cell_type": "code",
   "execution_count": 8,
   "id": "f16c554c-f36a-4799-a99a-b46d403cf3ea",
   "metadata": {},
   "outputs": [
    {
     "name": "stdin",
     "output_type": "stream",
     "text": [
      "What is your name? sentongo\n"
     ]
    },
    {
     "name": "stdout",
     "output_type": "stream",
     "text": [
      "Hello sentongo\n"
     ]
    }
   ],
   "source": [
    "print (\"Hello \" + input (\"What is your name?\"))"
   ]
  },
  {
   "cell_type": "code",
   "execution_count": 11,
   "id": "2270e0f6-8c0a-4e1d-9d68-c8635778e147",
   "metadata": {},
   "outputs": [
    {
     "name": "stdin",
     "output_type": "stream",
     "text": [
      "What is your name? sentongo\n"
     ]
    },
    {
     "name": "stdout",
     "output_type": "stream",
     "text": [
      "Hello sentongo!\n"
     ]
    }
   ],
   "source": [
    "print (\"Hello \" + input (\"What is your name?\") + \"!\")"
   ]
  },
  {
   "cell_type": "code",
   "execution_count": null,
   "id": "c95144b2-deb9-4717-a403-88d95036df72",
   "metadata": {},
   "outputs": [],
   "source": [
    "name = input (\"what is your name?\")"
   ]
  },
  {
   "cell_type": "code",
   "execution_count": 13,
   "id": "2a70ec45-713e-4006-ac6b-28e46276e565",
   "metadata": {},
   "outputs": [
    {
     "name": "stdout",
     "output_type": "stream",
     "text": [
      "sentongo\n"
     ]
    }
   ],
   "source": [
    "print (name)"
   ]
  },
  {
   "cell_type": "code",
   "execution_count": 14,
   "id": "6bea37ed-9aa6-497f-b605-00fcf29e8383",
   "metadata": {},
   "outputs": [
    {
     "name": "stdin",
     "output_type": "stream",
     "text": [
      "what is your name? sentongo\n"
     ]
    },
    {
     "name": "stdout",
     "output_type": "stream",
     "text": [
      "8\n"
     ]
    }
   ],
   "source": [
    "print(len(input(\"what is your name?\")))"
   ]
  },
  {
   "cell_type": "code",
   "execution_count": 15,
   "id": "aab3dfc8-62b8-4b49-b1d5-ead102960559",
   "metadata": {},
   "outputs": [
    {
     "name": "stdin",
     "output_type": "stream",
     "text": [
      "what is your user name? sentongo\n"
     ]
    },
    {
     "name": "stdout",
     "output_type": "stream",
     "text": [
      "8\n"
     ]
    }
   ],
   "source": [
    "username = input (\"what is your user name?\")\n",
    "length = len(username)\n",
    "print (length)"
   ]
  },
  {
   "cell_type": "markdown",
   "id": "6bacd71f-fab0-4016-920d-78b8da257e22",
   "metadata": {},
   "source": [
    "### BAND NAME GENERATOR"
   ]
  },
  {
   "cell_type": "code",
   "execution_count": 19,
   "id": "b0493c00-ab57-41fb-b124-c7282ba26682",
   "metadata": {},
   "outputs": [
    {
     "name": "stdout",
     "output_type": "stream",
     "text": [
      "Welcome to our band name generator\n",
      "Please enter details below to complete the task\n"
     ]
    },
    {
     "name": "stdin",
     "output_type": "stream",
     "text": [
      "What's the name of the city you grew up in? Kampala\n",
      "what is your pet name? Monkey\n"
     ]
    },
    {
     "name": "stdout",
     "output_type": "stream",
     "text": [
      "Your band name could be: Kampala  Monkey\n"
     ]
    }
   ],
   "source": [
    "print (\"Welcome to our band name generator\")\n",
    "print (\"Please enter details below to complete the task\")\n",
    "city = input (\"What's the name of the city you grew up in?\")\n",
    "pet = input (\"what is your pet name?\")\n",
    "print (\"Your band name could be: \" + city + \" \" + \" \" + pet)"
   ]
  },
  {
   "cell_type": "code",
   "execution_count": 20,
   "id": "ab259b64-1460-4f1c-b0db-cbbbb917e879",
   "metadata": {},
   "outputs": [
    {
     "name": "stdout",
     "output_type": "stream",
     "text": [
      "Welcome to your favorite traits review\n",
      "please enter your traits below\n"
     ]
    },
    {
     "name": "stdin",
     "output_type": "stream",
     "text": [
      "What is your name? Sentongo\n",
      "What is your favorite sport? football\n",
      "What is your favorite movie? jobless brotherhood\n"
     ]
    },
    {
     "name": "stdout",
     "output_type": "stream",
     "text": [
      "Your favorite traits are: Sentongo football jobless brotherhood\n"
     ]
    }
   ],
   "source": [
    "print(\"Welcome to your favorite traits review\")\n",
    "print (\"please enter your traits below\")\n",
    "name = input (\"What is your name?\")\n",
    "favorite_sport = input (\"What is your favorite sport?\")\n",
    "favorite_movie = input (\"What is your favorite movie?\")\n",
    "print (\"Your favorite traits are: \" + name + \" \" + favorite_sport + \" \" + favorite_movie)"
   ]
  },
  {
   "cell_type": "markdown",
   "id": "c58547b4-d8ee-4abc-a08b-2caf3afddd62",
   "metadata": {},
   "source": [
    "## DAY 2"
   ]
  },
  {
   "cell_type": "code",
   "execution_count": 21,
   "id": "8001ddd6-6277-4616-a784-186e1e573880",
   "metadata": {},
   "outputs": [
    {
     "name": "stdout",
     "output_type": "stream",
     "text": [
      "l\n"
     ]
    }
   ],
   "source": [
    "print (\"Hello\"[2])"
   ]
  },
  {
   "cell_type": "code",
   "execution_count": 22,
   "id": "7881e54a-0544-4de5-af11-42f0f660c52d",
   "metadata": {},
   "outputs": [
    {
     "name": "stdout",
     "output_type": "stream",
     "text": [
      "<class 'str'>\n"
     ]
    }
   ],
   "source": [
    "print (type(\"2345\"))"
   ]
  },
  {
   "cell_type": "code",
   "execution_count": 23,
   "id": "adf96ef4-6d48-4d83-a687-69c4cab26fd1",
   "metadata": {},
   "outputs": [
    {
     "name": "stdout",
     "output_type": "stream",
     "text": [
      "<class 'bool'>\n"
     ]
    }
   ],
   "source": [
    "print (type(True))"
   ]
  },
  {
   "cell_type": "code",
   "execution_count": 24,
   "id": "c009e993-1cf0-425c-af7b-3e7ac920b5af",
   "metadata": {},
   "outputs": [
    {
     "name": "stdout",
     "output_type": "stream",
     "text": [
      "<class 'int'>\n"
     ]
    }
   ],
   "source": [
    "print (type(123))"
   ]
  },
  {
   "cell_type": "code",
   "execution_count": 25,
   "id": "108170c7-e35c-4edb-9f88-9b3176057528",
   "metadata": {},
   "outputs": [
    {
     "name": "stdout",
     "output_type": "stream",
     "text": [
      "<class 'float'>\n"
     ]
    }
   ],
   "source": [
    "print (type(12.4))"
   ]
  },
  {
   "cell_type": "markdown",
   "id": "a30f01e9-bcb2-47b4-8300-f971c4e46f5f",
   "metadata": {},
   "source": [
    "#### Type casting"
   ]
  },
  {
   "cell_type": "code",
   "execution_count": 26,
   "id": "e8e52239-ccec-48eb-adac-5dbbd89185a1",
   "metadata": {},
   "outputs": [
    {
     "name": "stdout",
     "output_type": "stream",
     "text": [
      "256478\n"
     ]
    }
   ],
   "source": [
    "print (\"256\" + \"478\")"
   ]
  },
  {
   "cell_type": "code",
   "execution_count": 30,
   "id": "0d89b061-bcef-4d8c-be71-e085da39a6e6",
   "metadata": {},
   "outputs": [
    {
     "name": "stdout",
     "output_type": "stream",
     "text": [
      "734\n"
     ]
    }
   ],
   "source": [
    "print (int(\"256\") + int(\"478\"))"
   ]
  },
  {
   "cell_type": "code",
   "execution_count": 37,
   "id": "86281fd8-4e3c-4196-b47d-e046cb5000ec",
   "metadata": {},
   "outputs": [
    {
     "name": "stdin",
     "output_type": "stream",
     "text": [
      "Enter the user's name sentongo\n"
     ]
    },
    {
     "name": "stdout",
     "output_type": "stream",
     "text": [
      "The length of the user's name:8\n"
     ]
    }
   ],
   "source": [
    "user_name = input (\"Enter the user's name\")\n",
    "length_of_username = len (user_name)\n",
    "\n",
    "print (\"The length of the user's name:\" + str (length_of_username))"
   ]
  },
  {
   "cell_type": "markdown",
   "id": "ff56abca-3dd4-4146-af53-e9cf6dd1ee4b",
   "metadata": {},
   "source": [
    "### Mathematical operations"
   ]
  },
  {
   "cell_type": "markdown",
   "id": "4a3f64db-3d66-468a-b55b-ec15f2ada4b6",
   "metadata": {},
   "source": [
    "BMI CALCULATOR"
   ]
  },
  {
   "cell_type": "code",
   "execution_count": 38,
   "id": "2e9b9d32-b617-4e32-816a-dda13e9fd4b4",
   "metadata": {},
   "outputs": [
    {
     "name": "stdout",
     "output_type": "stream",
     "text": [
      "17.090092847668604\n"
     ]
    }
   ],
   "source": [
    "height = 1.98\n",
    "weight = 67\n",
    "bmi = weight / height ** 2\n",
    "\n",
    "print (bmi)"
   ]
  },
  {
   "cell_type": "code",
   "execution_count": 39,
   "id": "6268c3e9-6bb7-44d7-8e92-a5fb10c4185d",
   "metadata": {},
   "outputs": [
    {
     "name": "stdout",
     "output_type": "stream",
     "text": [
      "19.5\n"
     ]
    }
   ],
   "source": [
    "height = 2\n",
    "weight = 78\n",
    "\n",
    "#BMI formula = weight/height squared\n",
    "\n",
    "bmi = weight / height ** 2\n",
    "print (bmi)"
   ]
  },
  {
   "cell_type": "markdown",
   "id": "4c3a09dd-7477-4a97-a619-381743745b98",
   "metadata": {},
   "source": [
    "Rounding of numbers"
   ]
  },
  {
   "cell_type": "code",
   "execution_count": 40,
   "id": "14bb4c5a-483a-4882-9772-9c92f51b02d9",
   "metadata": {},
   "outputs": [
    {
     "name": "stdout",
     "output_type": "stream",
     "text": [
      "32\n"
     ]
    }
   ],
   "source": [
    "height = 1.67\n",
    "weight = 90\n",
    "\n",
    "bmi = weight / height ** 2\n",
    "print (round (bmi))"
   ]
  },
  {
   "cell_type": "markdown",
   "id": "dbd983a2-fa92-4bde-b7e7-8b2962de9ea4",
   "metadata": {},
   "source": [
    "ASSIGNMENT OPERATORS: NUMBERS MANIPULATION"
   ]
  },
  {
   "cell_type": "code",
   "execution_count": 42,
   "id": "64486e97-b144-4023-9350-b09db32fe41b",
   "metadata": {},
   "outputs": [
    {
     "name": "stdout",
     "output_type": "stream",
     "text": [
      "2\n"
     ]
    }
   ],
   "source": [
    "# We use the assignment operators below\n",
    "# +=, -=,*=,/=\n",
    "\n",
    "#f strings\n",
    "\n",
    "score = 0\n",
    "score += 2\n",
    "print (score)"
   ]
  },
  {
   "cell_type": "code",
   "execution_count": 43,
   "id": "4008fed3-eae5-486f-bd6a-343eac7f39ca",
   "metadata": {},
   "outputs": [
    {
     "name": "stdout",
     "output_type": "stream",
     "text": [
      "6\n"
     ]
    }
   ],
   "source": [
    "score = 8\n",
    "score -= 2\n",
    "print (score)"
   ]
  },
  {
   "cell_type": "code",
   "execution_count": 44,
   "id": "ef97091e-2136-4e71-b6aa-744bc2b5e8bf",
   "metadata": {},
   "outputs": [
    {
     "name": "stdout",
     "output_type": "stream",
     "text": [
      "Your final score is 97 and your best subject is english and final verdict is True\n"
     ]
    }
   ],
   "source": [
    "#f-strings store information, concatenates different data types as well\n",
    "score = 97\n",
    "subject = \"english\"\n",
    "you_pass = True\n",
    "\n",
    "print (f\"Your final score is {score} and your best subject is {subject} and final verdict is {you_pass}\")\n"
   ]
  },
  {
   "cell_type": "code",
   "execution_count": 46,
   "id": "31f2c1ba-28ed-4dbc-8240-a0c7b80085b9",
   "metadata": {},
   "outputs": [
    {
     "name": "stdout",
     "output_type": "stream",
     "text": [
      "Hello marcus your last name is sentongo\n"
     ]
    }
   ],
   "source": [
    "fname = \"marcus\"\n",
    "lname = \"sentongo\"\n",
    "print (f\"Hello {fname} your last name is {lname}\")"
   ]
  },
  {
   "cell_type": "markdown",
   "id": "82538147-3fa8-4e8e-a8ff-cff533ba9089",
   "metadata": {},
   "source": [
    "## project: TIP CALCULATOR"
   ]
  },
  {
   "cell_type": "code",
   "execution_count": 48,
   "id": "f8885fbb-334f-401a-903b-d1584d2b0b58",
   "metadata": {},
   "outputs": [
    {
     "name": "stdout",
     "output_type": "stream",
     "text": [
      "Welcome to the tip calculator\n"
     ]
    },
    {
     "name": "stdin",
     "output_type": "stream",
     "text": [
      "what was the total bill?: $ 19\n",
      "How much do you want to tip? 10 12 15 10\n",
      "how many people to share the bill? 6\n"
     ]
    },
    {
     "name": "stdout",
     "output_type": "stream",
     "text": [
      "20.9\n"
     ]
    }
   ],
   "source": [
    "print (\"Welcome to the tip calculator\")\n",
    "bill = float(input (\"what was the total bill?: $\"))\n",
    "tip = int (input (\"How much do you want to tip? 10 12 15\" ))\n",
    "people = int (input (\"how many people to share the bill?\"))\n",
    "\n",
    "bill_with_tip = tip / 100 * bill + bill\n",
    "\n",
    "print (bill_with_tip)"
   ]
  },
  {
   "cell_type": "markdown",
   "id": "7d30b66b-d4a1-4b2e-b6b4-1e76118a99da",
   "metadata": {},
   "source": [
    "## control flow statements"
   ]
  },
  {
   "cell_type": "code",
   "execution_count": 52,
   "id": "18989b33-4bb4-4f1a-8632-dc43d401fa27",
   "metadata": {},
   "outputs": [
    {
     "name": "stdout",
     "output_type": "stream",
     "text": [
      "welcome to the roller coaster\n"
     ]
    },
    {
     "name": "stdin",
     "output_type": "stream",
     "text": [
      "What is your height in CM? 150\n"
     ]
    },
    {
     "name": "stdout",
     "output_type": "stream",
     "text": [
      "You can ride the roller coaster\n"
     ]
    }
   ],
   "source": [
    "print (\"welcome to the roller coaster\")\n",
    "height = int (input (\"What is your height in CM?\"))\n",
    "\n",
    "if height > 120:\n",
    "    print (\"You can ride the roller coaster\")\n",
    "\n",
    "else:\n",
    "    print (\"Sorry you have to grow a little taller\")\n",
    "              "
   ]
  },
  {
   "cell_type": "code",
   "execution_count": 54,
   "id": "523d66d6-7704-492c-81c8-8f1d1d31c285",
   "metadata": {},
   "outputs": [
    {
     "name": "stdout",
     "output_type": "stream",
     "text": [
      " welcome to our sunday football league cup\n"
     ]
    },
    {
     "name": "stdin",
     "output_type": "stream",
     "text": [
      "What is your weight in KG? 170\n"
     ]
    },
    {
     "name": "stdout",
     "output_type": "stream",
     "text": [
      "You are eligible to play\n"
     ]
    }
   ],
   "source": [
    "print (\"Welcome to our Sunday football league cup\")\n",
    "weight = int (input (\"What is your weight in KG?\"))\n",
    "\n",
    "if weight >= 75:\n",
    "    print (\"You are eligible to play\")\n",
    "else:\n",
    "    print (\"Sorry you have to gain some weight before you play\")"
   ]
  },
  {
   "cell_type": "code",
   "execution_count": 56,
   "id": "02c3dbfd-2d4e-47e7-9681-948de259c224",
   "metadata": {},
   "outputs": [
    {
     "name": "stdout",
     "output_type": "stream",
     "text": [
      "Number Checker\n"
     ]
    },
    {
     "name": "stdin",
     "output_type": "stream",
     "text": [
      "Enter the number to check 20\n"
     ]
    },
    {
     "name": "stdout",
     "output_type": "stream",
     "text": [
      "This is an Even number\n"
     ]
    }
   ],
   "source": [
    "# check whether number is ODD or Even\n",
    "print (\"Number Checker\")\n",
    "number = int (input (\"Enter the number to check\"))\n",
    "\n",
    "if number % 2 == 0:\n",
    "    print (\"This is an Even number\")\n",
    "else:\n",
    "    print (\"This is an Odd number\")"
   ]
  },
  {
   "cell_type": "code",
   "execution_count": 59,
   "id": "5b218d10-2e55-47d2-8a87-8c16e31c0f4a",
   "metadata": {},
   "outputs": [
    {
     "name": "stdout",
     "output_type": "stream",
     "text": [
      "Welcome to the BMI calculator\n"
     ]
    },
    {
     "name": "stdin",
     "output_type": "stream",
     "text": [
      "Enter your height 1.5\n",
      "Enter your weight 90\n"
     ]
    },
    {
     "name": "stdout",
     "output_type": "stream",
     "text": [
      "You are Overweight\n"
     ]
    }
   ],
   "source": [
    "#BMI calculator\n",
    "print (\"Welcome to the BMI calculator\")\n",
    "height = float (input (\"Enter your height\"))\n",
    "weight = int (input (\"Enter your weight\"))\n",
    "bmi = weight / height ** 2\n",
    "\n",
    "if bmi >= 25:\n",
    "    print (\"You are Overweight\")\n",
    "elif bmi >= 18.5:\n",
    "    print (\"Normal weight\")\n",
    "else:\n",
    "    print (\"You are underweight\")\n"
   ]
  },
  {
   "cell_type": "markdown",
   "id": "ff5d6da4-e289-429a-a2b7-31499bf2f277",
   "metadata": {},
   "source": [
    "### pizza delivery system\n",
    "#### Day 4"
   ]
  },
  {
   "cell_type": "code",
   "execution_count": null,
   "id": "f1bd7f8d-a2b0-4ed1-999d-92c376c73f98",
   "metadata": {},
   "outputs": [
    {
     "name": "stdout",
     "output_type": "stream",
     "text": [
      "welcome to the pizza delivery system\n",
      "Enter below to start ordering your pizza\n"
     ]
    }
   ],
   "source": [
    "print (\"welcome to the pizza delivery system\")\n",
    "print (\"Enter below to start ordering your pizza\")\n",
    "\n",
    "size = input (\"Enter the size of the pizza: S M and L\")\n",
    "add_pepperoni = input (\"Do you want to add pepperoni?\")\n",
    "add_cheese = input \n",
    "bill = 0\n",
    "\n",
    "if size == S:\n",
    "    bill += 15\n",
    "if size == M:\n",
    "    bill += 20\n",
    "if size == L:\n",
    "    bill += 25\n",
    "else:\n",
    "    print (\"Sorry you have typed a wrong option\")\n",
    "\n",
    "add_pepperoni = input (\"Do you want to add pepperoni?\")\n",
    "\n",
    "if add_pepperoni == Y:\n",
    "   if size == S:\n",
    "       bill += 2\n",
    "   else:\n",
    "       bill += 3\n",
    "if add_cheese == Y:\n",
    "    bill += 1\n",
    "print (f\" your final bill is {bill}\")\n",
    "    "
   ]
  },
  {
   "cell_type": "markdown",
   "id": "775600fc-7a23-419c-9b1f-3b471a013533",
   "metadata": {},
   "source": [
    "##### LISTS"
   ]
  },
  {
   "cell_type": "code",
   "execution_count": 2,
   "id": "2f2eda04-5152-4540-8871-cb1e587d8221",
   "metadata": {},
   "outputs": [
    {
     "name": "stdout",
     "output_type": "stream",
     "text": [
      "elephant\n"
     ]
    }
   ],
   "source": [
    "wild_animals = [\"elephant\",\"lion\", \"monkey\"]\n",
    "print (wild_animals[0])"
   ]
  },
  {
   "cell_type": "code",
   "execution_count": 8,
   "id": "962e16bb-53ae-46a5-bc55-d6388660a975",
   "metadata": {},
   "outputs": [
    {
     "name": "stdout",
     "output_type": "stream",
     "text": [
      "lion\n"
     ]
    }
   ],
   "source": [
    "import random\n",
    "wild_animals = [\"elephant\",\"lion\", \"monkey\"]\n",
    "print (random.choice(wild_animals))"
   ]
  },
  {
   "cell_type": "code",
   "execution_count": 2,
   "id": "5d0f96c0-364d-42b9-8225-7832e3da5c89",
   "metadata": {},
   "outputs": [
    {
     "name": "stdout",
     "output_type": "stream",
     "text": [
      "0.2671421733984074\n"
     ]
    }
   ],
   "source": [
    "import random\n",
    "\n",
    "random_digits = random.random ()\n",
    "\n",
    "print (random_digits)"
   ]
  },
  {
   "cell_type": "code",
   "execution_count": 4,
   "id": "2421e766-7746-450c-a07f-25f41fce7db6",
   "metadata": {},
   "outputs": [
    {
     "name": "stdout",
     "output_type": "stream",
     "text": [
      "wigan\n"
     ]
    }
   ],
   "source": [
    "football_teams = [\"manchester united\", \"arsenal\",\"chelsea\",\"wigan\",\"liverpool\"]\n",
    "print (football_teams[3])"
   ]
  },
  {
   "cell_type": "code",
   "execution_count": 5,
   "id": "c0dd84b5-0dcd-4f9c-b887-c3e6bffff1b1",
   "metadata": {},
   "outputs": [],
   "source": [
    "football_teams [2] = \"liverpool\""
   ]
  },
  {
   "cell_type": "code",
   "execution_count": 6,
   "id": "6f4df96d-1670-41e8-8d70-7bb99e7e809f",
   "metadata": {},
   "outputs": [
    {
     "data": {
      "text/plain": [
       "['manchester united', 'arsenal', 'liverpool', 'wigan', 'liverpool']"
      ]
     },
     "execution_count": 6,
     "metadata": {},
     "output_type": "execute_result"
    }
   ],
   "source": [
    "football_teams"
   ]
  },
  {
   "cell_type": "code",
   "execution_count": 8,
   "id": "552a74ef-2d99-4bd1-a3dd-f6f14a58e4fe",
   "metadata": {},
   "outputs": [
    {
     "name": "stdout",
     "output_type": "stream",
     "text": [
      "manchester united\n"
     ]
    }
   ],
   "source": [
    "import random\n",
    "football_teams = [\"manchester united\", \"arsenal\",\"chelsea\",\"wigan\",\"liverpool\"]\n",
    "print (random.choice (football_teams))"
   ]
  },
  {
   "cell_type": "code",
   "execution_count": 1,
   "id": "16e1f638-7f32-46b7-bf05-b71df142483f",
   "metadata": {},
   "outputs": [
    {
     "name": "stdout",
     "output_type": "stream",
     "text": [
      "['villa', 'express'] ['dog', 'elephant']\n"
     ]
    }
   ],
   "source": [
    "football_teams = [\"villa\", \"express\"]\n",
    "animals = [\"dog\", \"elephant\"]\n",
    "\n",
    "print (football_teams, animals)"
   ]
  },
  {
   "cell_type": "code",
   "execution_count": 1,
   "id": "93639bb9-df8f-4095-9562-f983c86e75a8",
   "metadata": {},
   "outputs": [
    {
     "name": "stdout",
     "output_type": "stream",
     "text": [
      "apple\n",
      "peach\n",
      "pea\n"
     ]
    }
   ],
   "source": [
    "## loops\n",
    "fruits = [\"apple\",\"peach\",\"pea\"]\n",
    "for fruit in fruits:\n",
    "    print (fruit)"
   ]
  },
  {
   "cell_type": "code",
   "execution_count": 2,
   "id": "074cf216-b643-4d4d-b9e4-5e8431dec1ae",
   "metadata": {},
   "outputs": [
    {
     "name": "stdout",
     "output_type": "stream",
     "text": [
      "hello how are you\n",
      "nice to meet you\n"
     ]
    }
   ],
   "source": [
    "def greetings():\n",
    "    print(\"hello how are you\")\n",
    "    print(\"nice to meet you\")\n",
    "greetings ()"
   ]
  },
  {
   "cell_type": "code",
   "execution_count": 3,
   "id": "08204226-2c84-4c2d-8801-4e745a233c8f",
   "metadata": {},
   "outputs": [
    {
     "name": "stdout",
     "output_type": "stream",
     "text": [
      "hello how are you Ignatius\n",
      "nice to meet you Ignatius\n"
     ]
    }
   ],
   "source": [
    "def greet_with_name (name):\n",
    "    print(f\"hello how are you {name}\")\n",
    "    print(f\"nice to meet you {name}\")\n",
    "greet_with_name (\"Ignatius\")"
   ]
  },
  {
   "cell_type": "code",
   "execution_count": 5,
   "id": "fd2969a5-c3b7-4511-97bf-e44d6d4dfabd",
   "metadata": {},
   "outputs": [
    {
     "name": "stdout",
     "output_type": "stream",
     "text": [
      "You have 3120 weeks left.\n"
     ]
    }
   ],
   "source": [
    "def life_in_weeks(age):\n",
    "    years_remaining = 90 - age\n",
    "    weeks_remaining = years_remaining * 52\n",
    "    print(f\"You have {weeks_remaining} weeks left.\")\n",
    " \n",
    " \n",
    "life_in_weeks(30)"
   ]
  },
  {
   "cell_type": "code",
   "execution_count": 6,
   "id": "dc4fb532-c7ff-49d3-9ffe-70c89bc8dd82",
   "metadata": {},
   "outputs": [
    {
     "name": "stdout",
     "output_type": "stream",
     "text": [
      "Hello Ignatius\n",
      "how is it like in Mukono\n"
     ]
    }
   ],
   "source": [
    "##functions with two paratemeters\n",
    "def greet_with (name, location):\n",
    "    print (f\"Hello {name}\")\n",
    "    print (f\"how is it like in {location}\")\n",
    "greet_with (\"Ignatius\", \"Mukono\")\n"
   ]
  },
  {
   "cell_type": "code",
   "execution_count": 7,
   "id": "78d09b71-3ba1-4a10-8211-6b2edc7742e4",
   "metadata": {},
   "outputs": [
    {
     "name": "stdout",
     "output_type": "stream",
     "text": [
      "42\n"
     ]
    }
   ],
   "source": [
    "def calculate_love_score(name1, name2):\n",
    "    # Convert both names to lowercase and combine them\n",
    "    combined_names = (name1 + name2).lower()\n",
    "    \n",
    "    # Define the words \"TRUE\" and \"LOVE\"\n",
    "    true_count = sum(combined_names.count(letter) for letter in \"true\")\n",
    "    love_count = sum(combined_names.count(letter) for letter in \"love\")\n",
    "    \n",
    "    # Combine the counts to form the love score\n",
    "    love_score = int(str(true_count) + str(love_count))\n",
    "    \n",
    "    # Print the result\n",
    "    print(love_score)\n",
    "    \n",
    "# Example use\n",
    "calculate_love_score(\"Kanye West\", \"Kim Kardashian\")\n"
   ]
  },
  {
   "cell_type": "code",
   "execution_count": 13,
   "id": "2edc1f12-02e1-4d93-a471-0064b4f755f1",
   "metadata": {},
   "outputs": [
    {
     "name": "stdout",
     "output_type": "stream",
     "text": [
      "These are very rare and never seen at home nor at zoos\n"
     ]
    }
   ],
   "source": [
    "## dictionaries\n",
    "## have a key and a value\n",
    "\n",
    "animals = {\n",
    "    \"wild_animals\": \"These are always found away from home and in the bush\",\n",
    "    \"domestic_animals\": \"These are found in homes and are never dangerous\"\n",
    "}\n",
    "\n",
    "# print (animals [\"wild_animals\"])\n",
    "\n",
    "animals [\"rare_animals\"] = \"These are very rare and never seen at home nor at zoos\"\n",
    "\n",
    "C"
   ]
  },
  {
   "cell_type": "code",
   "execution_count": 14,
   "id": "0c9f39e8-df1d-46d3-8524-834ffdc13a57",
   "metadata": {},
   "outputs": [],
   "source": [
    "animals = {}"
   ]
  },
  {
   "cell_type": "code",
   "execution_count": 15,
   "id": "fb023994-37be-416d-87b5-a0d183afc3a0",
   "metadata": {},
   "outputs": [
    {
     "name": "stdout",
     "output_type": "stream",
     "text": [
      "{}\n"
     ]
    }
   ],
   "source": [
    "print (animals)"
   ]
  },
  {
   "cell_type": "code",
   "execution_count": null,
   "id": "a569c8ea-5c29-408a-834b-9530bd2fa297",
   "metadata": {},
   "outputs": [],
   "source": []
  }
 ],
 "metadata": {
  "kernelspec": {
   "display_name": "Python 3 (ipykernel)",
   "language": "python",
   "name": "python3"
  },
  "language_info": {
   "codemirror_mode": {
    "name": "ipython",
    "version": 3
   },
   "file_extension": ".py",
   "mimetype": "text/x-python",
   "name": "python",
   "nbconvert_exporter": "python",
   "pygments_lexer": "ipython3",
   "version": "3.12.4"
  }
 },
 "nbformat": 4,
 "nbformat_minor": 5
}
