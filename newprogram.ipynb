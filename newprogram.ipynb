{
 "cells": [
  {
   "cell_type": "markdown",
   "metadata": {},
   "source": [
    "PYTHON RANDOMIZATION"
   ]
  },
  {
   "cell_type": "code",
   "execution_count": 1,
   "metadata": {},
   "outputs": [
    {
     "name": "stdout",
     "output_type": "stream",
     "text": [
      "Keynote Title: How Exploring Quantum Computing Sparked Football\n"
     ]
    },
    {
     "ename": "",
     "evalue": "",
     "output_type": "error",
     "traceback": [
      "\u001b[1;31mThe Kernel crashed while executing code in the current cell or a previous cell. \n",
      "\u001b[1;31mPlease review the code in the cell(s) to identify a possible cause of the failure. \n",
      "\u001b[1;31mClick <a href='https://aka.ms/vscodeJupyterKernelCrash'>here</a> for more info. \n",
      "\u001b[1;31mView Jupyter <a href='command:jupyter.viewOutput'>log</a> for further details."
     ]
    }
   ],
   "source": [
    "import random\n",
    "\n",
    "def roll_dice(dice_sides):\n",
    "    return random.choice(dice_sides)\n",
    "\n",
    "def generate_keynote_title():\n",
    "    dice_1_sides = [\"The Art of\", \"How Exploring\", \"How Mastering\", \"How Revolutionizing\", \"How Decoding\", \"How Demystifying\"]\n",
    "    dice_2_sides = [\"Software\", \"Robotics\", \"Quantum Computing\", \"Artificial Intelligence\", \"Nanotechnology\", \"Augmented Reality\"]\n",
    "    dice_3_sides = [\"Disrupted\", \"Revolutionized\", \"Transformed\", \"Sparked\", \"Inspired\", \"Energized\"]\n",
    "    dice_4_sides = [\"Football\", \"Cheesemaking\", \"Birdwatching\", \"Space Travel\", \"Time Travel\", \"Virtual Reality Theme Parks\"]\n",
    "\n",
    "    title = f\"{roll_dice(dice_1_sides)} {roll_dice(dice_2_sides)} {roll_dice(dice_3_sides)} {roll_dice(dice_4_sides)}\"\n",
    "    return title\n",
    "\n",
    "if __name__ == \"__main__\":\n",
    "    keynote_title = generate_keynote_title()\n",
    "    print(\"Keynote Title:\", keynote_title)\n"
   ]
  }
 ],
 "metadata": {
  "kernelspec": {
   "display_name": "Python 3",
   "language": "python",
   "name": "python3"
  },
  "language_info": {
   "codemirror_mode": {
    "name": "ipython",
    "version": 3
   },
   "file_extension": ".py",
   "mimetype": "text/x-python",
   "name": "python",
   "nbconvert_exporter": "python",
   "pygments_lexer": "ipython3",
   "version": "3.11.10"
  }
 },
 "nbformat": 4,
 "nbformat_minor": 2
}
