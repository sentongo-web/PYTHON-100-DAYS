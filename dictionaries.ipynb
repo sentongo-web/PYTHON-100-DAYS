{
 "cells": [
  {
   "cell_type": "markdown",
   "metadata": {},
   "source": [
    "dictionaries:"
   ]
  },
  {
   "cell_type": "code",
   "execution_count": 1,
   "metadata": {},
   "outputs": [],
   "source": [
    "my_dictionary = {\n",
    "    \"animals\": \"these are to be considered as those we stay with at home\",\n",
    "    \"birds\": \"these are those that fly in the sky\",\n",
    "    \"reptiles\": \"these are those that crawl on the ground\",\n",
    "    \"insects\": \"these are those that fly in the air\",\n",
    "}"
   ]
  },
  {
   "cell_type": "code",
   "execution_count": 2,
   "metadata": {},
   "outputs": [
    {
     "name": "stdout",
     "output_type": "stream",
     "text": [
      "these are those that fly in the sky\n"
     ]
    }
   ],
   "source": [
    "print (my_dictionary[\"birds\"])"
   ]
  },
  {
   "cell_type": "code",
   "execution_count": 4,
   "metadata": {},
   "outputs": [
    {
     "name": "stdout",
     "output_type": "stream",
     "text": [
      "{'animals': 'these are to be considered as those we stay with at home', 'birds': 'these are those that fly in the sky', 'reptiles': 'these are those that crawl on the ground', 'insects': 'these are those that fly in the air', 'vegetables': ['these are those that we eat as food']}\n"
     ]
    }
   ],
   "source": [
    "my_dictionary[\"vegetables\"] = [\"these are those that we eat as food\"]\n",
    "print (my_dictionary)"
   ]
  },
  {
   "cell_type": "code",
   "execution_count": 5,
   "metadata": {},
   "outputs": [
    {
     "name": "stdout",
     "output_type": "stream",
     "text": [
      "{}\n"
     ]
    }
   ],
   "source": [
    "my_dictionary = {}\n",
    "print (my_dictionary)"
   ]
  },
  {
   "cell_type": "markdown",
   "metadata": {},
   "source": [
    "Nesting lists in dictionaries"
   ]
  },
  {
   "cell_type": "code",
   "execution_count": 11,
   "metadata": {},
   "outputs": [
    {
     "name": "stdout",
     "output_type": "stream",
     "text": [
      "Gwagwalada\n"
     ]
    }
   ],
   "source": [
    "cities = {\n",
    "    \"Lagos\": \"Nigeria\",\n",
    "    \"Paris\": \"France\",\n",
    "}\n",
    "\n",
    "travel_history = {\n",
    "    \"Nigeria\": [\"Lagos\",\"Gwagwalada\"],\n",
    "    \"France\": [\"Paris\",\"St Mirren\"],\n",
    "}\n",
    "\n",
    "print (travel_history[\"Nigeria\"][1])"
   ]
  },
  {
   "cell_type": "code",
   "execution_count": 14,
   "metadata": {},
   "outputs": [
    {
     "name": "stdout",
     "output_type": "stream",
     "text": [
      "D\n"
     ]
    }
   ],
   "source": [
    "nested_list = [\"A\", \"B\", [\"C\", \"D\"]]\n",
    "print(nested_list[2][1])"
   ]
  }
 ],
 "metadata": {
  "kernelspec": {
   "display_name": "Python 3",
   "language": "python",
   "name": "python3"
  },
  "language_info": {
   "codemirror_mode": {
    "name": "ipython",
    "version": 3
   },
   "file_extension": ".py",
   "mimetype": "text/x-python",
   "name": "python",
   "nbconvert_exporter": "python",
   "pygments_lexer": "ipython3",
   "version": "3.11.10"
  }
 },
 "nbformat": 4,
 "nbformat_minor": 2
}
